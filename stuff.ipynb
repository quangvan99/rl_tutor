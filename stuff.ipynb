{
 "cells": [
  {
   "cell_type": "code",
   "execution_count": 1,
   "metadata": {},
   "outputs": [],
   "source": [
    "from ppo import PPO\n",
    "import torch\n",
    "import numpy as np\n",
    "\n",
    "if __name__ == \"__main__\":\n",
    "    torch.manual_seed(42)\n",
    "    np.random.seed(42)\n",
    "    device = 'cuda'\n",
    "    rl = PPO(left = -500, right = 500, max_step=500, device = device)"
   ]
  },
  {
   "cell_type": "code",
   "execution_count": 2,
   "metadata": {},
   "outputs": [],
   "source": [
    "td = rl.env.reset(10).to(device)"
   ]
  },
  {
   "cell_type": "code",
   "execution_count": 6,
   "metadata": {},
   "outputs": [],
   "source": [
    "with torch.no_grad():\n",
    "    out = rl.policy(td=td.clone(), env=rl.env)"
   ]
  },
  {
   "cell_type": "code",
   "execution_count": 10,
   "metadata": {},
   "outputs": [
    {
     "data": {
      "text/plain": [
       "tensor([[-1.0937, -1.0937, -1.0937,  ..., -1.0937, -1.0937, -1.0937],\n",
       "        [-1.0937, -1.0937, -1.0937,  ..., -1.0937, -1.0937, -1.0937],\n",
       "        [-1.0937, -1.0937, -1.0937,  ..., -1.0937, -1.0937, -1.0937],\n",
       "        ...,\n",
       "        [-1.0937, -1.0937, -1.0937,  ..., -1.0937, -1.0937, -1.0937],\n",
       "        [-1.0937, -1.0937, -1.0937,  ..., -1.0937, -1.0937, -1.0937],\n",
       "        [-1.0937, -1.0937, -1.0937,  ..., -1.0937, -1.0937, -1.0937]],\n",
       "       device='cuda:0')"
      ]
     },
     "execution_count": 10,
     "metadata": {},
     "output_type": "execute_result"
    }
   ],
   "source": [
    "out['log_probs']"
   ]
  },
  {
   "cell_type": "code",
   "execution_count": null,
   "metadata": {},
   "outputs": [],
   "source": []
  }
 ],
 "metadata": {
  "kernelspec": {
   "display_name": "base",
   "language": "python",
   "name": "python3"
  },
  "language_info": {
   "codemirror_mode": {
    "name": "ipython",
    "version": 3
   },
   "file_extension": ".py",
   "mimetype": "text/x-python",
   "name": "python",
   "nbconvert_exporter": "python",
   "pygments_lexer": "ipython3",
   "version": "3.11.9"
  }
 },
 "nbformat": 4,
 "nbformat_minor": 2
}
